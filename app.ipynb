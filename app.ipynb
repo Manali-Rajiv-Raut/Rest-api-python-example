{
 "cells": [
  {
   "cell_type": "code",
   "execution_count": 1,
   "id": "ee9f836c",
   "metadata": {},
   "outputs": [],
   "source": [
    "import pandas as pd\n",
    "import numpy as np\n",
    "import random"
   ]
  },
  {
   "cell_type": "code",
   "execution_count": 2,
   "id": "ee798fb1",
   "metadata": {},
   "outputs": [],
   "source": [
    "from flask import Flask ,jsonify ,request,redirect,url_for , make_response \n",
    "app = Flask(__name__)"
   ]
  },
  {
   "cell_type": "code",
   "execution_count": 3,
   "id": "95abe132",
   "metadata": {},
   "outputs": [],
   "source": [
    "@app.route('/', methods=['GET', 'POST'])\n",
    "def meaning_and_quotes():\n",
    "    name = request.args.get('name',type = str)\n",
    "    #print(name)\n",
    "    initial_charactor = list((name).upper())[0]\n",
    "    #print(initial_charactor)\n",
    "    \n",
    "    alp_data = pd.read_csv(\"alphabet_meaning.csv\" , encoding= 'unicode_escape')\n",
    "   \n",
    "    for row in range(alp_data.shape[0]):\n",
    "        if alp_data[\"Alphabet\"][row] == initial_charactor :\n",
    "            charactor_meaning = alp_data[\"Meaning\"][row]  \n",
    "            print(charactor_meaning )\n",
    "    quote_data = pd.read_csv(\"quotes.csv\" , encoding= 'unicode_escape')\n",
    "    random_num = random.choice(quote_data[\"QID\"])\n",
    "    #print(random_num)\n",
    "    if random_num == len(quote_data) :\n",
    "        random_num = random.choice(quote_data[\"QID\"])\n",
    "    else:\n",
    "        pass\n",
    "       \n",
    "    quote = quote_data[\"Quotes\"][random_num]\n",
    "    \n",
    "    result = {\n",
    "              \"Greeting\": \"Welcome \"+name, \n",
    "              \"Meaning of your name from initial charactor\": \"\\n\"+charactor_meaning, \n",
    "              \"Special quote for you\": \"\\n\"+quote,\n",
    "        }\n",
    "    return result\n",
    "    "
   ]
  },
  {
   "cell_type": "code",
   "execution_count": 4,
   "id": "81e51aac",
   "metadata": {},
   "outputs": [
    {
     "name": "stdout",
     "output_type": "stream",
     "text": [
      " * Serving Flask app '__main__' (lazy loading)\n",
      " * Environment: production\n",
      "   WARNING: This is a development server. Do not use it in a production deployment.\n",
      "   Use a production WSGI server instead.\n",
      " * Debug mode: off\n"
     ]
    },
    {
     "name": "stderr",
     "output_type": "stream",
     "text": [
      " * Running on http://127.0.0.1:5000/ (Press CTRL+C to quit)\n",
      "[2021-10-26 15:58:43,964] ERROR in app: Exception on / [GET]\n",
      "Traceback (most recent call last):\n",
      "  File \"C:\\Users\\Manali\\Anaconda3\\lib\\site-packages\\flask\\app.py\", line 2073, in wsgi_app\n",
      "    response = self.full_dispatch_request()\n",
      "  File \"C:\\Users\\Manali\\Anaconda3\\lib\\site-packages\\flask\\app.py\", line 1518, in full_dispatch_request\n",
      "    rv = self.handle_user_exception(e)\n",
      "  File \"C:\\Users\\Manali\\Anaconda3\\lib\\site-packages\\flask\\app.py\", line 1516, in full_dispatch_request\n",
      "    rv = self.dispatch_request()\n",
      "  File \"C:\\Users\\Manali\\Anaconda3\\lib\\site-packages\\flask\\app.py\", line 1502, in dispatch_request\n",
      "    return self.ensure_sync(self.view_functions[rule.endpoint])(**req.view_args)\n",
      "  File \"C:\\Users\\Manali\\AppData\\Local\\Temp/ipykernel_15184/3935098626.py\", line 5, in meaning_and_quotes\n",
      "    initial_charactor = list((name).upper())[0]\n",
      "AttributeError: 'NoneType' object has no attribute 'upper'\n",
      "127.0.0.1 - - [26/Oct/2021 15:58:43] \"GET / HTTP/1.1\" 500 -\n"
     ]
    },
    {
     "name": "stdout",
     "output_type": "stream",
     "text": [
      "None\n"
     ]
    },
    {
     "name": "stderr",
     "output_type": "stream",
     "text": [
      "127.0.0.1 - - [26/Oct/2021 15:58:51] \"GET /?name=jenda HTTP/1.1\" 200 -\n"
     ]
    },
    {
     "name": "stdout",
     "output_type": "stream",
     "text": [
      "jenda\n",
      "J\n",
      "People's whose names begin with the letter J like to be in charge and are extremely ambitious by nature. \n",
      " In fact, you tend to stop at nothing in order to get what you want out of life. \n",
      " Determined and self-reliant, J's do well when they find an understanding partner.\n",
      "14\n",
      "till here\n",
      "Your work is going to fill a large part of your life, \n",
      " and the only way to be truly satisfied is to do what you believe is great work.\n",
      "  And the only way to do great work is to love what you do. \n",
      " If you havent found it yet, keep looking. Dont settle. \n",
      " As with all matters of the heart, youll know when you find it.  Steve Jobs\n"
     ]
    }
   ],
   "source": [
    "if __name__ == '__main__':\n",
    "    app.run()"
   ]
  },
  {
   "cell_type": "code",
   "execution_count": null,
   "id": "7bed0079",
   "metadata": {},
   "outputs": [],
   "source": []
  },
  {
   "cell_type": "code",
   "execution_count": null,
   "id": "8f51b6e2",
   "metadata": {},
   "outputs": [],
   "source": []
  }
 ],
 "metadata": {
  "kernelspec": {
   "display_name": "Python 3 (ipykernel)",
   "language": "python",
   "name": "python3"
  },
  "language_info": {
   "codemirror_mode": {
    "name": "ipython",
    "version": 3
   },
   "file_extension": ".py",
   "mimetype": "text/x-python",
   "name": "python",
   "nbconvert_exporter": "python",
   "pygments_lexer": "ipython3",
   "version": "3.7.11"
  }
 },
 "nbformat": 4,
 "nbformat_minor": 5
}
